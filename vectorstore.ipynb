{
 "cells": [
  {
   "cell_type": "markdown",
   "metadata": {},
   "source": [
    "Referencia https://python.langchain.com/docs/modules/data_connection/vectorstores\n",
    "\n",
    "vector store almacena los embedding y se encarga de recuperlos, posiblemente de un almacen persistente"
   ]
  },
  {
   "cell_type": "code",
   "execution_count": 1,
   "metadata": {},
   "outputs": [],
   "source": [
    "import os\n",
    "import getpass\n",
    "\n",
    "os.environ['COHERE_API_KEY'] =getpass.getpass(\"Cohere API key is:\")"
   ]
  },
  {
   "cell_type": "code",
   "execution_count": 7,
   "metadata": {},
   "outputs": [],
   "source": [
    "from langchain_community.document_loaders import TextLoader\n",
    "from langchain_community.embeddings import CohereEmbeddings\n",
    "from langchain_text_splitters import CharacterTextSplitter\n",
    "from langchain_community.vectorstores import Chroma\n",
    "\n",
    "raw_documents = TextLoader('filosofia_heraclito.txt').load()\n",
    "text_splitter = CharacterTextSplitter(chunk_size=100, chunk_overlap=0)\n",
    "documents = text_splitter.split_documents(raw_documents)\n",
    "db = Chroma.from_documents(documents, CohereEmbeddings())"
   ]
  },
  {
   "cell_type": "markdown",
   "metadata": {},
   "source": [
    "Busqueda de similaridad"
   ]
  },
  {
   "cell_type": "code",
   "execution_count": 9,
   "metadata": {},
   "outputs": [
    {
     "name": "stderr",
     "output_type": "stream",
     "text": [
      "Number of requested results 4 is greater than number of elements in index 1, updating n_results = 1\n"
     ]
    },
    {
     "name": "stdout",
     "output_type": "stream",
     "text": [
      "Esa es la vida \n",
      "es una locura \n",
      "cada dia que te sientas aburrido \n",
      "date cuenta que estas vivo!\n",
      "busca algo diferente \n",
      "date cuenta que estas vivo!\n",
      "que existen infinitas posibilidades\n",
      "que se pueden abrir varios caminos\n",
      "e infinitas formas de hacer las cosas\n",
      "deja de ver la vida como algo estatico\n",
      "esa es la trampa de la mente que cae en el aburrimiento \n",
      "sin embargo tu naturaleza es explorar \n",
      "levantar la mirada \n",
      "disfrutar de la musica de la vida\n",
      "el aburrimiento siempre esta en la puerta\n",
      "y no es malo ni es bueno\n",
      "pero cuando ya no lo soportes \n",
      "date cuenta que estas vivo!\n"
     ]
    }
   ],
   "source": [
    "query = \"la vida es estatica?\"\n",
    "docs = db.similarity_search(query)\n",
    "print(docs[0].page_content)"
   ]
  }
 ],
 "metadata": {
  "kernelspec": {
   "display_name": ".venv",
   "language": "python",
   "name": "python3"
  },
  "language_info": {
   "codemirror_mode": {
    "name": "ipython",
    "version": 3
   },
   "file_extension": ".py",
   "mimetype": "text/x-python",
   "name": "python",
   "nbconvert_exporter": "python",
   "pygments_lexer": "ipython3",
   "version": "3.10.12"
  }
 },
 "nbformat": 4,
 "nbformat_minor": 2
}
