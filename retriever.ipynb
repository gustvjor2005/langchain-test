{
 "cells": [
  {
   "cell_type": "markdown",
   "metadata": {},
   "source": [
    "Referencia https://python.langchain.com/docs/get_started/quickstart"
   ]
  },
  {
   "cell_type": "code",
   "execution_count": 1,
   "metadata": {},
   "outputs": [],
   "source": [
    "import os\n",
    "import getpass\n",
    "\n",
    "os.environ['COHERE_API_KEY'] =getpass.getpass(\"Cohere API key is:\")"
   ]
  },
  {
   "cell_type": "code",
   "execution_count": 2,
   "metadata": {},
   "outputs": [],
   "source": [
    "from langchain_community.chat_models import ChatCohere\n",
    "\n",
    "llm = ChatCohere()"
   ]
  },
  {
   "cell_type": "code",
   "execution_count": 8,
   "metadata": {},
   "outputs": [
    {
     "data": {
      "text/plain": [
       "AIMessage(content='Starting and mounting a startup in Latam (Latin America) can be an exciting and challenging opportunity. Here are some steps and considerations to help you in your journey:\\n\\n1. Choose your market and location: Latin America is a diverse region with different countries and markets. Choose the country or city that best fits your target audience and business needs. Consider factors such as the size of the market, the economic climate, the existing ecosystem for startups, and the regulatory environment.\\n\\n2. Understand the cultural and regulatory landscape: Each Latin American country has its own cultural dynamics and regulations. Research and understand the cultural nuances, legal requirements, and any specific rules related to your business. This will help you navigate the local landscape and avoid potential pitfalls.\\n\\n3. Build a solid business plan: Develop a comprehensive business plan that outlines your value proposition, target market, customer segments, marketing and sales strategy, financial projections, and operational plan. A well-defined business plan will help you pitch your idea to potential investors and partners.\\n\\n4. Fundraising: Explore funding options available in the region. There are various venture capital firms, angel investors, and government grants specifically focused on supporting startups. Attend local startup events, network, and build relationships with potential investors. Prepare a compelling pitch deck and be ready to demonstrate the potential for growth and return on investment.\\n\\n5. Find co-founders or partners: Starting a business can be easier and more efficient by partnering with like-minded individuals. Consider co-founders or local partners who understand the market and can help you navigate the cultural and business landscape. Look for individuals with complementary skills and a shared vision for your startup.\\n\\n6. Embrace the lean startup methodology: Start small, focus on validating your idea, and iterate quickly. Test your product or service with potential customers, gather feedback, and make adjustments accordingly. The lean startup approach allows you to adapt and refine your business idea based on market demands.\\n\\n7. Build a strong team: Surround yourself with talented individuals who believe in your vision. Look for skills in areas crucial to your business, such as technology, marketing, sales, or finance. Consider the local talent pool and explore co-working spaces or incubators where you can connect with potential team members.\\n\\n8. Seek mentorship and support: Look for mentorship programs, startup incubators, or accelerators that can provide guidance, networking opportunities, and resources. These initiatives often offer valuable support and connections to help your startup succeed.\\n\\n9. Stay updated on technology and trends: Keep up with the latest technology trends and industry developments. Embrace digital tools and platforms that can help you reach a wider audience, improve efficiency, and lower startup costs. Consider the potential of cloud computing, AI, and other technologies relevant to your business.\\n\\n10. Be persistent and adaptable: Starting a startup requires determination, resilience, and the ability to adapt quickly. Stay persistent in the face of challenges and be open to changing your approach based on market feedback and evolving circumstances.\\n\\nRemember that the startup ecosystem in Latin America is continually evolving, so staying informed, networking, and seeking local guidance can be invaluable. Also, keep in mind that the specific steps and challenges may vary depending on the country in Latam you choose to mount your startup.', response_metadata={'documents': None, 'citations': None, 'search_results': None, 'search_queries': None, 'token_count': {'prompt_tokens': 76, 'response_tokens': 659, 'total_tokens': 735, 'billed_tokens': 669}})"
      ]
     },
     "execution_count": 8,
     "metadata": {},
     "output_type": "execute_result"
    }
   ],
   "source": [
    "llm.invoke(\"how can I mount a startup in latam?\")"
   ]
  },
  {
   "cell_type": "markdown",
   "metadata": {},
   "source": [
    "Creamos Prompt"
   ]
  },
  {
   "cell_type": "code",
   "execution_count": 5,
   "metadata": {},
   "outputs": [],
   "source": [
    "from langchain_core.prompts import ChatPromptTemplate\n",
    "\n",
    "prompt = ChatPromptTemplate.from_messages([\n",
    "    (\"system\", \"You are a world class Couch in business\"), \n",
    "    (\"user\", \"{input}\")\n",
    "])"
   ]
  },
  {
   "cell_type": "code",
   "execution_count": 6,
   "metadata": {},
   "outputs": [],
   "source": [
    "chain = prompt | llm"
   ]
  },
  {
   "cell_type": "code",
   "execution_count": 7,
   "metadata": {},
   "outputs": [
    {
     "data": {
      "text/plain": [
       "AIMessage(content=\"Starting a business in Latin America can be an exciting and challenging endeavor. Here are some steps to help you mount your startup in Latin America:\\n\\n1. Choose your market: Latin America is a diverse region with different countries and markets. Choose the country or cities you want to focus on based on your target market, the demand for your product or service, and the existing opportunities in the region. Consider factors such as the economic climate, the tech ecosystem, and the potential for growth in your chosen field.\\n\\n2. Understand the cultural and regulatory environment: Each country in Latin America has its own cultural dynamics and regulatory framework. Research and understand the local culture, language, business etiquette, and legal requirements for starting a business. Seek advice from experts, consultants, or local business organizations who can provide guidance on the specific country you're targeting.\\n\\n3. Build a solid business plan: Develop a comprehensive business plan that outlines your startup's vision, mission, and goals. Detail your product or service, target market, marketing and sales strategy, financial projections, and operational plan. A well-prepared business plan can also help you attract investors and partners.\\n\\n4. Fundraising and financing: Explore funding options available in the region. This can include venture capital firms, angel investors, government grants, or crowdfunding platforms. Remember that fundraising in Latin America might be more challenging than in more developed markets, so be prepared for a potentially lengthy process. Consider boot-strapping or finding local partners who can help with initial funding.\\n\\n5. Assemble your team: Surround yourself with talented individuals who share your vision and can contribute to the success of your startup. Look for co-founders, employees, or partners with local knowledge, language skills, and relevant industry experience. Building a strong and reliable team is crucial for your startup's growth and development.\\n\\n6. Leverage technology and digital presence: Establish a strong online presence and leverage technology to reach your target audience. Create a well-designed website, engage in social media, and optimize your digital marketing strategies to connect with customers across Latin America. Consider using cloud-based solutions and collaboration tools to facilitate remote work and collaboration.\\n\\n7. Build local connections and partnerships: Network extensively to create a solid network of local connections. Attend industry events, join startup communities and incubators, and seek out potential partnerships with established companies. Collaborating with local businesses or influencers can help you navigate the market and gain access to valuable resources.\\n\\n8. Adaptability and flexibility: The business environment in Latin America can be unpredictable, so adaptability is key. Be prepared to adjust your strategies, business models, or offerings to match the changing market dynamics and local demands. Stay updated with the latest trends, innovations, and success stories within the Latin American startup ecosystem.\\n\\n9. Learn from others' experiences: Seek out mentors or advisors who have experience starting businesses in Latin America. Learn from their successes and challenges, and seek their guidance on avoiding common pitfalls. Join startup communities, such as local chapters of Startup Grind or similar organizations, where you can connect with experienced entrepreneurs.\\n\\n10. Monitor and analyze your progress: Regularly review your startup's performance and make data-driven decisions. Analyze key metrics, customer feedback, and market trends to identify areas for improvement and pivot if needed. Continuously learn from your experiences and be open to refining your approach.\\n\\nRemember that starting a business anywhere in the world comes with its own set of challenges, but the rewards can be significant if you persevere and adapt to the local market. Ensure you have the determination, resilience, and flexibility to navigate the entrepreneurial journey in Latin America.\", response_metadata={'documents': None, 'citations': None, 'search_results': None, 'search_queries': None, 'token_count': {'prompt_tokens': 87, 'response_tokens': 733, 'total_tokens': 820, 'billed_tokens': 751}})"
      ]
     },
     "execution_count": 7,
     "metadata": {},
     "output_type": "execute_result"
    }
   ],
   "source": [
    "chain.invoke(\"how can I mount a startup in latam?\")"
   ]
  },
  {
   "cell_type": "markdown",
   "metadata": {},
   "source": [
    "Extrae información de una web"
   ]
  },
  {
   "cell_type": "code",
   "execution_count": 23,
   "metadata": {},
   "outputs": [],
   "source": [
    "from langchain_community.document_loaders import WebBaseLoader\n",
    "loader = WebBaseLoader(\"https://utecventures.notion.site/FAQ-Ark-Ventures-Incubator-24f2dd1197024528b755f4e778e58e06\")\n",
    "docs = loader.load()"
   ]
  },
  {
   "cell_type": "markdown",
   "metadata": {},
   "source": [
    "Indexar en un VestorStore con FAISS"
   ]
  },
  {
   "cell_type": "code",
   "execution_count": 24,
   "metadata": {},
   "outputs": [],
   "source": [
    "from langchain_community.embeddings import CohereEmbeddings\n",
    "\n",
    "embeddings = CohereEmbeddings()"
   ]
  },
  {
   "cell_type": "code",
   "execution_count": 25,
   "metadata": {},
   "outputs": [],
   "source": [
    "from langchain_community.vectorstores import FAISS\n",
    "from langchain_text_splitters import RecursiveCharacterTextSplitter\n",
    "\n",
    "text_splitter = RecursiveCharacterTextSplitter()\n",
    "documents = text_splitter.split_documents(docs)\n",
    "vector = FAISS.from_documents(documents, embeddings)"
   ]
  },
  {
   "cell_type": "markdown",
   "metadata": {},
   "source": [
    "Creamos la cadena de recuperación - Retrieval chain"
   ]
  },
  {
   "cell_type": "code",
   "execution_count": 26,
   "metadata": {},
   "outputs": [],
   "source": [
    "from langchain.chains.combine_documents import create_stuff_documents_chain\n",
    "\n",
    "prompt = ChatPromptTemplate.from_template(\"\"\"Answer the following question based only on the provided context:\n",
    "\n",
    "<context>\n",
    "{context}\n",
    "</context>\n",
    "\n",
    "Question: {input}\"\"\")\n",
    "\n",
    "document_chain = create_stuff_documents_chain(llm, prompt)\n"
   ]
  },
  {
   "cell_type": "markdown",
   "metadata": {},
   "source": [
    "Pasamos el documento directamente"
   ]
  },
  {
   "cell_type": "code",
   "execution_count": 27,
   "metadata": {},
   "outputs": [
    {
     "data": {
      "text/plain": [
       "\"Based on the provided context, it seems that startups in Latam could receive financial backing from the Peruvian government in the form of capital support. This would presumably make it easier for you to mount a startup in the region, as you would have access to government funding to help get your venture off the ground. \\n\\nLatam, or Latin America, is a vibrant and diverse region with a large consumer market and a plethora of talented professionals, making it an attractive location to start a business. If you're considering mounting a startup there, the potential for financial support from the government could be a welcome boost to your venture, providing you with capital to invest in your business idea. \\n\\nSome steps to consider if you're planning to launch a startup in Latam could include: \\n\\n1. Research: Conduct thorough market research to identify a need or gap in the market that your startup could fulfill. Understanding the local market, consumer behavior, and trends will help you develop a relevant and successful product or service. \\n\\n2. Develop your idea: Based on your research, create a detailed business plan outlining your product/service, target audience, marketing strategy, and financial projections. Ensure you have a clear vision and a solid understanding of the direction you want to take. \\n\\n3. Seek government support: Given the context provided, approach the Peruvian government to explore the possibility of obtaining capital support. Present a compelling case for your startup, highlighting its potential impact and how it aligns with the government's initiatives. \\n\\n4. Build a team: Surround yourself with talented individuals who share your vision and can contribute to different aspects of the business. This may include co-founders, employees, or partners who bring expertise in areas like technology, marketing, or finance. \\n\\n5. Test and iterate: Launch your product or service on a small scale to gauge the market response. Use the feedback to refine and improve your offering, ensuring you continuously adapt to the needs of your target audience. \\n\\n6. Network: Build connections and seek mentorship from experienced entrepreneurs or business leaders in the region. Networking can open doors to new opportunities, partnerships, and potential investors. \\n\\n7. Monitor and adapt: Stay close to your customers' needs and feedback, and be ready to adapt your business strategies based on market dynamics and trends. Agility and responsiveness are crucial in the startup world. \\n\\nRemember, starting a business is a complex and challenging endeavor, but the potential rewards can be significant. Seek as much information and guidance as you can, and carefully plan and execute your startup journey in Latam.\""
      ]
     },
     "execution_count": 27,
     "metadata": {},
     "output_type": "execute_result"
    }
   ],
   "source": [
    "from langchain_core.documents import Document\n",
    "\n",
    "document_chain.invoke({\n",
    "    \"input\":\"how can I mount a startup in Latam?\", \n",
    "    \"context\": [Document(page_content=\"startups in latam could receive capital support of Peru goverment\")]\n",
    "\n",
    "})\n"
   ]
  },
  {
   "cell_type": "markdown",
   "metadata": {},
   "source": [
    "Accedemos al documento mediante el retriever"
   ]
  },
  {
   "cell_type": "code",
   "execution_count": 28,
   "metadata": {},
   "outputs": [
    {
     "name": "stdout",
     "output_type": "stream",
     "text": [
      "Unfortunately, the context does not provide any information about mounting a startup in Latam. The mentioned workspace seems to be focused on note-taking and personal task management, which is not directly related to starting a business in Latam or any other region.\n",
      "\n",
      "However, starting a startup does require a lot of planning and organization, which is where a workspace app like Notion could come in handy. It can help you keep all your ideas, notes, and tasks in one place as you embark on your entrepreneurial journey. But the app itself won't provide the specific information you need to mount a startup in Latam.\n",
      "\n",
      "For detailed advice and guidance on mounting a startup in Latam, I'd recommend seeking out business resources, consulting local experts, or reaching out to entrepreneurial communities in the region you're interested in. They will have the most up-to-date and accurate information to help you get started.\n"
     ]
    }
   ],
   "source": [
    "from langchain.chains import create_retrieval_chain\n",
    "\n",
    "retriever = vector.as_retriever()\n",
    "retrieval_chain = create_retrieval_chain(retriever, document_chain)\n",
    "response = retrieval_chain.invoke({\"input\": \"how can I mount a startup in latam?\"})\n",
    "print(response[\"answer\"])"
   ]
  }
 ],
 "metadata": {
  "kernelspec": {
   "display_name": ".venv",
   "language": "python",
   "name": "python3"
  },
  "language_info": {
   "codemirror_mode": {
    "name": "ipython",
    "version": 3
   },
   "file_extension": ".py",
   "mimetype": "text/x-python",
   "name": "python",
   "nbconvert_exporter": "python",
   "pygments_lexer": "ipython3",
   "version": "3.10.12"
  }
 },
 "nbformat": 4,
 "nbformat_minor": 2
}
