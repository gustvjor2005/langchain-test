{
 "cells": [
  {
   "cell_type": "code",
   "execution_count": 1,
   "metadata": {},
   "outputs": [],
   "source": [
    "import os\n",
    "import getpass\n",
    "\n",
    "os.environ['COHERE_API_KEY'] = getpass.getpass(\"Cohere API key is:\")"
   ]
  },
  {
   "cell_type": "code",
   "execution_count": 2,
   "metadata": {},
   "outputs": [],
   "source": [
    "from langchain_community.chat_models import ChatCohere\n",
    "llm = ChatCohere()"
   ]
  },
  {
   "cell_type": "code",
   "execution_count": 3,
   "metadata": {},
   "outputs": [
    {
     "data": {
      "text/plain": [
       "AIMessage(content=\"Learning about Information Architecture (IA) can be a great step towards understanding how to design effective information systems and structures. Here's a learning path you could follow:\\n\\n1. **Understand the Basics:** Start by grasping the core concepts of IA. It's a practice that organizes information to make it more accessible and usable. Read up on the principles of IA, including information organization, labeling, and navigation. Websites like A List Apart, Smashing Magazine, and the Mozilla Developer Network have great introductory articles on IA.\\n\\n2. **IA Classics:** Dive into some of the classic literature on the subject. Books like *Information Architecture for the World Wide Web* by Louis Rosenfeld and Peter Morville, and *Information Architecture: Blueprints for the Web* by Christopher Morrey provide in-depth insights into the theory and practice of IA.\\n\\n3. **Online Resources:** There are numerous online resources and communities focused on IA that can help you learn and connect with others in the field. Websites like IA Institute, Info Architecture, and UX Mastery have valuable tutorials, articles, and resources. Explore these sites to find tutorials, webinars, and podcasts that can deepen your understanding.\\n\\n4. **Practice Projects:** Start applying your knowledge by practicing on small projects. Organize the information for a personal website or create a content inventory and information hierarchy for a fictional company. This hands-on experience will help you better understand the challenges and decisions involved in IA.\\n\\n5. **Study Real-world Examples:** Analyze the information architecture of websites and apps you interact with daily. Pay attention to the structure, navigation, and labeling choices, and consider what works well and what could be improved. Understanding the IA of existing systems can give you valuable insights.\\n\\n6. **Join the IA Community:** Engage with IA professionals and enthusiasts through online communities, forums, and social media groups. Platforms like LinkedIn, Twitter, and Slack have active IA channels and groups where you can ask questions, share your work, and learn from others' experiences.\\n\\n7. **Attend Conferences and Workshops:** Information Architecture conferences and workshops are great opportunities to immerse yourself in the field. Events like the IA Summit, UX London, and World Information Architecture Day attract leading IA practitioners and offer a wealth of knowledge. These events often have workshops, tutorials, and networking opportunities.\\n\\n8. **Learn Related Skills:** Broaden your understanding by exploring related fields such as user experience (UX) design, user research, and content strategy. These disciplines overlap with IA, and knowing their fundamentals can enhance your IA skills.\\n\\n9. **Collaborate and Discuss:** Practice explaining IA concepts and discussing them with peers. Collaborating on projects or discussing real-life scenarios can help you gain a deeper understanding and get feedback on your ideas.\\n\\n10. **Stay Updated:** The field of IA continues to evolve, so staying current with industry trends is essential. Follow IA thought leaders, blogs, and newsletters to keep up with the latest developments and best practices.\\n\\nRemember, learning IA is a continuous journey, and practice combined with reflection will help you hone your skills. Don't be afraid to experiment, and seek feedback from colleagues or mentors along the way.\", response_metadata={'documents': None, 'citations': None, 'search_results': None, 'search_queries': None, 'token_count': {'prompt_tokens': 72, 'response_tokens': 645, 'total_tokens': 717, 'billed_tokens': 651}})"
      ]
     },
     "execution_count": 3,
     "metadata": {},
     "output_type": "execute_result"
    }
   ],
   "source": [
    "llm.invoke(\"how can I learn IA?\")"
   ]
  },
  {
   "cell_type": "code",
   "execution_count": 3,
   "metadata": {},
   "outputs": [],
   "source": [
    "from langchain_core.prompts import ChatPromptTemplate\n",
    "\n",
    "prompt = ChatPromptTemplate.from_messages([\n",
    "    (\"system\", \"You are worlds class technical documentation writer.\"),\n",
    "    (\"user\", \"{input}\")\n",
    "])"
   ]
  },
  {
   "cell_type": "code",
   "execution_count": 4,
   "metadata": {},
   "outputs": [],
   "source": [
    "chain = prompt | llm"
   ]
  },
  {
   "cell_type": "code",
   "execution_count": 5,
   "metadata": {},
   "outputs": [
    {
     "data": {
      "text/plain": [
       "AIMessage(content='Learning about Information Architecture (IA) can be a great step towards understanding how to organize information in a structured and logical way, which is beneficial for a wide range of careers and interests. Here are some methods to help you learn about IA:\\n\\n1. Online Resources: There are numerous online resources available that can help you understand the fundamentals of IA. Websites, such as the official website of the Information Architecture Institute, offer a wealth of knowledge, including articles, tutorials, and best practices. You can also find valuable information and insights on other websites, blogs, and forums dedicated to the topic.\\n\\n2. Books and Publications: Many books offer in-depth explanations and practical guides to IA. Some popular titles include \"Information Architecture for the World Wide Web\" by Louis Rosenfeld and Peter Morville, which is often considered a foundational text, and \"Information Architecture: Blueprints for the Web\" by Christopher Scott. These books provide comprehensive overviews of IA principles, methodologies, and real-world applications.\\n\\n3. Courses and Tutorials: Online platforms like Coursera, Udemy, and EdX offer a variety of courses specifically focused on Information Architecture. These courses often provide structured learning, video tutorials, and interactive exercises. They can be a great way to gain a solid understanding of IA fundamentals and apply them to practical scenarios.\\n\\n4. Conferences and Workshops: Attending IA conferences, workshops, and meetups can be an excellent way to immerse yourself in the field. These events provide opportunities to listen to expert speakers, participate in discussions, and network with practitioners. They often cover a range of topics, from foundational principles to advanced applications of IA. Some popular events include the IA Institute\\'s annual conference, IA Summit, and local meetups organized by IA groups.\\n\\n5. Research and Case Studies: Exploring existing research and case studies can give you insights into how IA is applied in the real world. Reading whitepapers, articles, and case studies can help you understand the challenges and solutions related to IA in various contexts. This will help you see the practical implications of IA principles.\\n\\n6. Practice and Experimentation: Learning by doing is a valuable approach to grasping IA concepts. You can practice creating information architectures for personal projects, designing website structures, or organizing content hierarchies. Experiment with different scenarios and try applying IA principles to enhance your understanding.\\n\\n7. Learning from Industry Experts: Following the work and learning from renowned IA practitioners can provide valuable insights. Many experts share their knowledge through blogs, podcasts, or social media platforms. Engaging with their content can offer a more practical and experiential learning experience.\\n\\n8. Professional Certifications: Consider pursuing professional certifications in IA to deepen your knowledge and enhance your credentials. Certifications like the Certified Information Professional (CIP) or similar programs can provide a structured learning path and demonstrate your commitment to the field.\\n\\n9. Hands-on Projects: Work on hands-on projects to apply your IA knowledge. This could involve volunteering to help local businesses or organizations improve their information structures or practicing IA techniques on your own projects. This kind of practical experience can reinforce your understanding.\\n\\n10. Online Communities: Engage with online communities dedicated to IA, such as the Information Architecture Institute\\'s community or relevant Reddit and LinkedIn groups. These communities offer opportunities to ask questions, discuss challenges, and gain insights from experienced professionals.\\n\\nRemember that learning is a continuous process, and IA is a field that evolves rapidly. Stay updated with the latest trends, technologies, and best practices by incorporating a combination of these learning methods and finding the ones that work best for you. Happy learning!', response_metadata={'documents': None, 'citations': None, 'search_results': None, 'search_queries': None, 'token_count': {'prompt_tokens': 83, 'response_tokens': 725, 'total_tokens': 808, 'billed_tokens': 739}})"
      ]
     },
     "execution_count": 5,
     "metadata": {},
     "output_type": "execute_result"
    }
   ],
   "source": [
    "chain.invoke({\"input\": \"how I can learn IA?\"})"
   ]
  },
  {
   "cell_type": "code",
   "execution_count": 6,
   "metadata": {},
   "outputs": [],
   "source": [
    "from langchain_core.output_parsers import StrOutputParser\n",
    "\n",
    "output_parser = StrOutputParser()"
   ]
  },
  {
   "cell_type": "code",
   "execution_count": 7,
   "metadata": {},
   "outputs": [],
   "source": [
    "chain = prompt | llm | output_parser"
   ]
  },
  {
   "cell_type": "code",
   "execution_count": 8,
   "metadata": {},
   "outputs": [
    {
     "data": {
      "text/plain": [
       "'Learning about IA, or Information Architecture, is a worthwhile endeavor! Here are some steps you can take to immerse yourself in the field:\\n\\n1. **Grasp the Fundamentals**: Start by understanding the basics of IA. It involves organizing information in a structured and logical manner, often with the aid of visuals like sitemaps or wireframes. IA helps users navigate and interact with digital products or services seamlessly. \\n\\n2. **Explore Resources**: Fortunately, there are abundant resources available online that can help you learn about IA. Websites, books, blogs, and podcasts are great mediums to gain knowledge. Here are some recommendations to get you started:\\n   - Website: Information Architecture Institute (IAI) - a wealth of resources, including articles, events, and courses.\\n   - Books:\\n     - *Information Architecture: For the Web and Beyond* by Peter Morville and Louis Rosenfeld\\n     - *Information Architecture: Blueprints for the Web* by Christina Wodtke\\n   - Blogs: UX Booth, UX Matters, and Smashing Magazine often have articles on IA.\\n   - Podcasts: Listen to The IA Podcast for insightful interviews with IA practitioners.\\n\\n3. **Practice IA Techniques**: Familiarize yourself with common IA techniques like card sorting, user flows, and wireframing. Card sorting especially is a popular method to organize content and can be fun to do with friends or colleagues. You can use online tools like Optimal Workshop or Gliffy to facilitate these exercises. \\n\\n4. **Study Real-World Examples**: Analyze the information architecture of websites or apps you interact with daily. Evaluate their navigation, search functionality, and content organization. Note what works well, what could be improved, and try to understand the reasoning behind the design decisions. \\n\\n5. **Join the IA Community**: Connect with other IA enthusiasts and professionals. Follow IA leaders on social media, join relevant groups on LinkedIn or Facebook, and participate in discussions. Engaging with the community can provide valuable insights, and you might even find opportunities to collaborate or learn from seasoned practitioners. \\n\\n6. **Attend Conferences and Workshops**: IA conferences and workshops are excellent opportunities to immerse yourself in the field intensively. You can learn about the latest trends, network with practitioners, and gain hands-on experience. Some popular events include the IA Summit, UX Australia, and UX London. \\n\\n7. **Contribute to Discussions and Publications**: Write blog posts or articles on IA topics, share your perspectives, and engage in discussions online. This will help you consolidate your knowledge and gain feedback from others in the field. Contributions can also help establish your reputation and credibility. \\n\\n8. **Consider Certification**: While not necessary, obtaining a certification in IA can enhance your credentials. The IAI offers a certification program that involves an exam, a professional assessment, and the submission of a practical IA project. \\n\\n9. **Gain Practical Experience**: Apply your IA knowledge in real-world projects. Collaborate with designers, developers, and stakeholders to create information architectures that are effective and user-friendly. You can start by practicing IA on personal projects or finding opportunities to work with local businesses. \\n\\n10. **Stay Updated**: IA is an evolving field, so staying current with the latest trends, research, and best practices is essential. Review IA publications, follow industry leaders, and attend regular webinars or talks to keep learning. \\n\\nRemember, learning IA is a continuous journey, and gaining expertise requires practice, perseverance, and an eagerness to explore. Happy learning!'"
      ]
     },
     "execution_count": 8,
     "metadata": {},
     "output_type": "execute_result"
    }
   ],
   "source": [
    "chain.invoke({\"input\": \"how I can learn IA?\"})"
   ]
  }
 ],
 "metadata": {
  "kernelspec": {
   "display_name": ".venv",
   "language": "python",
   "name": "python3"
  },
  "language_info": {
   "codemirror_mode": {
    "name": "ipython",
    "version": 3
   },
   "file_extension": ".py",
   "mimetype": "text/x-python",
   "name": "python",
   "nbconvert_exporter": "python",
   "pygments_lexer": "ipython3",
   "version": "3.10.12"
  }
 },
 "nbformat": 4,
 "nbformat_minor": 2
}
