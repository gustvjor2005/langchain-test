{
 "cells": [
  {
   "cell_type": "code",
   "execution_count": 1,
   "metadata": {},
   "outputs": [
    {
     "name": "stdout",
     "output_type": "stream",
     "text": [
      "env: COHERE_API_KEY=\"ytgnOVyj0s9PlWV6FppZEluXRiPtA9lX02SI4xHL\"\n"
     ]
    }
   ],
   "source": [
    "#%env COHERE_API_KEY=\"ytgnOVyj0s9PlWV6FppZEluXRiPtA9lX02SI4xHL\""
   ]
  },
  {
   "cell_type": "code",
   "execution_count": 1,
   "metadata": {},
   "outputs": [],
   "source": [
    "from langchain_community.chat_models import ChatCohere\n",
    "\n",
    "llm = ChatCohere(cohere_api_key=\"ytgnOVyj0s9PlWV6FppZEluXRiPtA9lX02SI4xHL\")"
   ]
  },
  {
   "cell_type": "code",
   "execution_count": 2,
   "metadata": {},
   "outputs": [
    {
     "data": {
      "text/plain": [
       "AIMessage(content='Learning AI (Artificial Intelligence) can be a fascinating and rewarding journey! Here are some steps to help you get started:\\n\\n1. **Fundamentals:** Start by familiarizing yourself with the basic concepts of AI. Learn about its history, applications, and key algorithms. Some essential topics to cover include machine learning, neural networks, computer vision, natural language processing, and robotics.\\n\\n2. **Mathematics:** AI is heavily reliant on mathematics, so brush up on your linear algebra, calculus, probability theory, and statistics. Make sure you understand these concepts well, as they form the foundation for most AI techniques.\\n\\n3. **Programming:** Proficiency in at least one programming language is a must. Python is a popular choice in the AI community due to its simplicity and extensive libraries. Learn how to write efficient code and practice solving problems using code.\\n\\n4. **Online Courses:** There are numerous high-quality online resources that offer lessons in AI. Platforms like Coursera, edX, and Udacity have AI courses taught by experts in the field. Some popular ones include \"Machine Learning\" by Andrew Ng and \"Deep Learning\" by Ian Goodfellow, both offered on Coursera.\\n\\n5. **Textbooks and Research Papers:** Dive into classic AI textbooks such as \"Artificial Intelligence: A Modern Approach\" by Stuart Russell and Peter Norvig, or \"Pattern Recognition and Machine Learning\" by Christopher Bishop. Reading research papers will help you stay up-to-date with the latest advancements and understand how AI is applied in real-world scenarios.\\n\\n6. **Practice and Projects:** Apply your knowledge by working on practical AI projects. This will help you better understand the concepts and gain hands-on experience. You can use datasets from Kaggle or create your own projects. Implement machine learning algorithms, experiment with different techniques, and try to solve real-world problems.\\n\\n7. **AI Communities:** Join online communities, forums, and groups focused on AI. Places like Kaggle, GitHub, and AI subreddits are great for discussing concepts, sharing projects, and learning from experienced professionals. Engaging with these communities can provide valuable insights and opportunities to learn from others\\' experiences.\\n\\n8. **Conferences and Workshops:** Attend AI conferences and workshops to immerse yourself in the field. Events like the annual Conference on Artificial Intelligence (AAAI) or Neural Information Processing Systems (NeurIPS) are excellent for networking and keeping up with the latest trends in AI.\\n\\n9. **Internships and Mentorship:** Look for internship opportunities at companies or research institutions working with AI. Such experiences can provide valuable industry exposure and guidance under experienced mentors.\\n\\n10. **Experiment and Explore:** AI is a vast field with many specialties. Experiment with different subfields like computer vision, natural language processing, or robotics to find what interests you most. Keep up with the latest advancements and trends in the field by regularly reading AI news and publications.\\n\\nRemember, learning AI is a continuous journey, and it\\'s important to stay curious, persistent, and passionate. Enjoy the process of discovering how AI works and how it can impact the world around us!', response_metadata={'documents': None, 'citations': None, 'search_results': None, 'search_queries': None, 'token_count': {'prompt_tokens': 72, 'response_tokens': 636, 'total_tokens': 708, 'billed_tokens': 642}})"
      ]
     },
     "execution_count": 2,
     "metadata": {},
     "output_type": "execute_result"
    }
   ],
   "source": [
    "llm.invoke(\"how can I learn IA?\")"
   ]
  },
  {
   "cell_type": "code",
   "execution_count": 3,
   "metadata": {},
   "outputs": [],
   "source": [
    "from langchain_core.prompts import ChatPromptTemplate\n",
    "\n",
    "prompt = ChatPromptTemplate.from_messages([\n",
    "    (\"system\", \"You are worlds class technical documentation writer.\"),\n",
    "    (\"user\", \"{input}\")\n",
    "])"
   ]
  },
  {
   "cell_type": "code",
   "execution_count": 4,
   "metadata": {},
   "outputs": [],
   "source": [
    "chain = prompt | llm"
   ]
  },
  {
   "cell_type": "code",
   "execution_count": 5,
   "metadata": {},
   "outputs": [
    {
     "data": {
      "text/plain": [
       "AIMessage(content='Learning about IA, or Information Architecture, is a worthwhile endeavor! Here are some steps you can take to enhance your knowledge and skills in this domain:\\n\\n1. **Grasping the Fundamentals:** Start by understanding the core concepts of IA. It\\'s about organizing information in a structured and logical manner, enhancing user experience, and improving the findability of content. IA involves designing the architecture of websites, applications, or even physical spaces.\\n\\n2. **Explore the Fundamentals of UX and UI:** IA is closely related to User Experience (UX) and User Interface (UI) design. Understanding the principles of UX and UI can provide you with valuable insights into the user-centric approach that IA often entails. Researching and studying the principles of these fields will help you grasp the broader context of IA.\\n\\n3. **Online Tutorials and Courses:** There are numerous online resources available that can help you learn IA. Websites like Coursera, Udemy, and LinkedIn Learning offer comprehensive courses on IA, covering topics from information organization and wireframing to user research and usability testing. These courses can provide a solid foundation and are often practical and project-based.\\n\\n4. **Books and Publications:** Many books delve into the intricacies of IA. Some popular titles include \"Information Architecture for the World Wide Web\" by Peter Morville and Louis Rosenfeld, often regarded as a foundational text, and \"IA for the People\" by Ryan Argott, which focuses on the human aspects of IA.\\n\\n5. **Professional Blogs and Websites:** Follow reputable IA blogs and websites to stay updated on industry trends, best practices, and new developments. Sites like IA Institute, UX Booth, and Nielsen Norman Group publish insightful articles that can enhance your understanding. Engaging with these resources regularly will help you stay informed and inspired.\\n\\n6. **Practice and Projects:** Learning IA is an iterative process, and practice is crucial. Apply your knowledge by working on projects. You can start by analyzing existing websites or apps, evaluating their information architecture, and proposing improvements. You could also create wireframes and information workflows to hone your skills.\\n\\n7. **Join IA Communities and Forums:** Engage with fellow learners and professionals in IA by joining online communities and forums. Sites like Reddit have active subreddits for IA discussions. LinkedIn also has several IA-focused groups where you can connect with others in the field, share your work, and seek feedback.\\n\\n8. **Attend Conferences and Workshops:** Participate in IA conferences and workshops to immerse yourself in the field. These events provide opportunities to network with seasoned professionals, learn from expert talks and tutorials, and gain first-hand insights into the latest trends and best practices.\\n\\n9. **Mentorship and Apprenticeships:** Consider finding a mentor who is experienced in IA. They can guide you, answer your questions, and provide valuable feedback on your projects. Apprenticeship programs or internships in IA roles can also be invaluable for gaining hands-on experience.\\n\\n10. **Critiquing and Analyzing Designs:** Develop a critical eye by analyzing the information architecture of websites or apps you interact with daily. Evaluate their structure, navigation, and user-friendliness. This practice will help you identify strengths and weaknesses and refine your own skills.\\n\\n11. **Contribution to Open Source Projects:** Look for open-source projects that focus on IA. Contributing to these projects can not only help you gain practical experience but also collaborate with others who share your interests.\\n\\n12. **Stay Updated:** The field of IA continues to evolve, so staying updated is essential. Follow industry leaders and thought-makers on social media, and subscribe to newsletters focused on IA to receive the latest news and insights.\\n\\nRemember, learning IA is a continuous journey. The more you practice, analyze, and engage with the community, the deeper your understanding will become. Start small, work on projects, and gradually build your skills, and you\\'ll be well on your way to becoming an IA expert!', response_metadata={'documents': None, 'citations': None, 'search_results': None, 'search_queries': None, 'token_count': {'prompt_tokens': 83, 'response_tokens': 807, 'total_tokens': 890, 'billed_tokens': 821}})"
      ]
     },
     "execution_count": 5,
     "metadata": {},
     "output_type": "execute_result"
    }
   ],
   "source": [
    "chain.invoke({\"input\": \"how I can learn IA?\"})"
   ]
  },
  {
   "cell_type": "code",
   "execution_count": 6,
   "metadata": {},
   "outputs": [],
   "source": [
    "from langchain_core.output_parsers import StrOutputParser\n",
    "\n",
    "output_parser = StrOutputParser()\n"
   ]
  },
  {
   "cell_type": "code",
   "execution_count": 7,
   "metadata": {},
   "outputs": [],
   "source": [
    "chain = prompt | llm | output_parser"
   ]
  },
  {
   "cell_type": "code",
   "execution_count": 8,
   "metadata": {},
   "outputs": [
    {
     "data": {
      "text/plain": [
       "'Learning about IA, or Information Architecture, is a worthwhile endeavor! Here are some steps you can take to immerse yourself in the field:\\n\\n1. **Gaining a Fundamental Understanding:** Start by grasping the fundamentals of IA. It involves organizing information in a structured and logical manner, enhancing user experience. Explore the basics, including the principles, practices, and goals of IA.\\n\\n2. **Online Resources:** Take advantage of the abundant online resources available on the topic. Websites, blogs, and articles are excellent places to gain knowledge and insight. Some popular resources include the IA Institute website, which offers comprehensive tutorials and explanations. Additionally, well-known websites like \"Smashing Magazine\" and \"UX Booth\" often publish articles on IA, offering practical insights.\\n\\n3. **Books and Publications:** Immerse yourself in renowned IA literature. Classics like \"Information Architecture for the World Wide Web\" by Louis Rosenfeld and Peter Morville provide a thorough introduction to the field. The book delves into the principles, methodologies, and strategies of IA, making it a valuable addition to your library.\\n\\n4. **Conferences and Meetups:** Attend IA conferences and local meetups to immerse yourself in the community. Events like the IA Summit, hosted by the IA Institute, provide opportunities to connect with like-minded individuals, gain hands-on experience, and learn from industry experts. These conferences often feature insightful talks, workshops, and networking events.\\n\\n5. **Online Courses and Tutorials:** Enroll in online courses to enhance your IA skills. Platforms like Coursera, Udemy, and LinkedIn Learning offer a variety of IA courses that cater to different skill levels. These can help you learn the fundamentals and explore specific areas of IA in depth.\\n\\n6. **Practical Experience:** Apply your learning in real-world scenarios. Start by analyzing existing websites or applications, evaluating their information architecture. You can also create information architectures for personal or client projects, putting theory into practice.\\n\\n7. **Joining Communities:** Engage in discussions within IA communities, either online or locally. Communities foster knowledge sharing, support, and inspiration. You can connect with practitioners, ask questions, and stay updated on the latest trends and techniques.\\n\\n8. **Research and Case Studies:** Delve into research articles and case studies to understand how IA is applied in diverse projects and industries. This will expand your understanding of the real-world implications and applications of IA principles.\\n\\n9. **Mentorship and Learning from Experts:** Seek mentorship opportunities with experienced IA professionals. Connect with them via online platforms, conferences, or personal networks. Mentors can provide valuable guidance, answer specific questions, and offer insights into the field.\\n\\n10. **Contribute to Discussions:** As you deepen your knowledge, contribute to IA discussions by sharing your perspectives and insights. This can help solidify your understanding and connect you with others in the field.\\n\\nRemember, learning IA is a continuous journey. Stay updated with the latest tools, techniques, and best practices by maintaining a strong connection with the IA community and seeking out new resources and experiences.'"
      ]
     },
     "execution_count": 8,
     "metadata": {},
     "output_type": "execute_result"
    }
   ],
   "source": [
    "chain.invoke({\"input\": \"how I can learn IA?\"})"
   ]
  }
 ],
 "metadata": {
  "kernelspec": {
   "display_name": ".venv",
   "language": "python",
   "name": "python3"
  },
  "language_info": {
   "codemirror_mode": {
    "name": "ipython",
    "version": 3
   },
   "file_extension": ".py",
   "mimetype": "text/x-python",
   "name": "python",
   "nbconvert_exporter": "python",
   "pygments_lexer": "ipython3",
   "version": "3.10.12"
  }
 },
 "nbformat": 4,
 "nbformat_minor": 2
}
